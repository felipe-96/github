{
 "cells": [
  {
   "cell_type": "code",
   "execution_count": 1,
   "id": "ddbc6bc0",
   "metadata": {},
   "outputs": [],
   "source": [
    "import sys\n",
    "sys.path.append(\"../../../\") "
   ]
  },
  {
   "cell_type": "code",
   "execution_count": 2,
   "id": "38cee388",
   "metadata": {},
   "outputs": [],
   "source": [
    "import pandas as pd \n",
    "import matplotlib.pyplot as plt\n",
    "import matplotlib.image as mpimg\n",
    "import glob\n",
    "import os\n"
   ]
  },
  {
   "cell_type": "code",
   "execution_count": 3,
   "id": "9eff4941",
   "metadata": {},
   "outputs": [],
   "source": [
    "import numpy as np\n",
    "from hamiltonian import utils"
   ]
  },
  {
   "cell_type": "code",
   "execution_count": 4,
   "id": "b55f731d",
   "metadata": {},
   "outputs": [],
   "source": [
    "path = []\n",
    "for dirname, _, filenames in os.walk('../kaggle/input'):\n",
    "    print(dirname)\n",
    "    for filename in filenames:\n",
    "        if (filename[-3:] == 'png'):\n",
    "            path.append(os.path.join(dirname, filename))"
   ]
  },
  {
   "cell_type": "code",
   "execution_count": 5,
   "id": "fea5f8d1",
   "metadata": {},
   "outputs": [
    {
     "data": {
      "text/plain": [
       "['README.md.txt',\n",
       " 'COVID',\n",
       " 'Lung_Opacity',\n",
       " 'Normal.metadata.xlsx',\n",
       " 'Lung_Opacity.metadata.xlsx',\n",
       " 'COVID.metadata.xlsx',\n",
       " 'Viral Pneumonia',\n",
       " 'Normal',\n",
       " 'Viral Pneumonia.metadata.xlsx']"
      ]
     },
     "execution_count": 5,
     "metadata": {},
     "output_type": "execute_result"
    }
   ],
   "source": [
    "fullpath = \"../../../kaggle/input/covid19-radiography-database/COVID-19_Radiography_Dataset\"\n",
    "\n",
    "os.listdir(fullpath)"
   ]
  },
  {
   "cell_type": "code",
   "execution_count": 6,
   "id": "730218a4",
   "metadata": {},
   "outputs": [
    {
     "name": "stderr",
     "output_type": "stream",
     "text": [
      "/home/proyecto/.local/lib/python3.8/site-packages/seaborn/_decorators.py:36: FutureWarning: Pass the following variable as a keyword arg: x. From version 0.12, the only valid positional argument will be `data`, and passing other arguments without an explicit keyword will result in an error or misinterpretation.\n",
      "  warnings.warn(\n"
     ]
    },
    {
     "data": {
      "image/png": "[encoded data removed]",
      "text/plain": [
       "<Figure size 432x288 with 1 Axes>"
      ]
     },
     "metadata": {
      "needs_background": "light"
     },
     "output_type": "display_data"
    }
   ],
   "source": [
    "list_files=[]\n",
    "for dir in os.listdir(fullpath):\n",
    "  directory = os.path.join(fullpath,dir)\n",
    "  \n",
    "  if os.path.isdir(directory):\n",
    "    for img in os.listdir(directory):\n",
    "      list_files.append([os.path.join(dir,img),dir])\n",
    "df = pd.DataFrame(list_files, columns=['id','label'])\n",
    "df.describe()\n",
    "list_files = []\n",
    "for dir in os.listdir(fullpath):\n",
    "  directory = os.path.join(fullpath,dir)\n",
    "\n",
    "import seaborn as sns\n",
    "sns.countplot(df.label)\n",
    "plt.show()"
   ]
  },
  {
   "cell_type": "code",
   "execution_count": 7,
   "id": "1ec947c9",
   "metadata": {},
   "outputs": [],
   "source": [
    "import mxnet\n",
    "from mxnet import image, nd\n",
    "dim = 150"
   ]
  },
  {
   "cell_type": "code",
   "execution_count": 8,
   "id": "aac36e8f",
   "metadata": {},
   "outputs": [
    {
     "name": "stderr",
     "output_type": "stream",
     "text": [
      "[15:16:07] /home/proyecto/mxnet/src/storage/storage.cc:199: Using Pooled (Naive) StorageManager for CPU\n"
     ]
    }
   ],
   "source": [
    "cant_img = 600#cantidad de imagenes a procesar\n",
    "\n",
    "count = 0\n",
    "'''\n",
    "for img_path in glob.glob(DATASET_DIR + \"/Normal/*\"):\n",
    "    count += 1\n",
    "    normal_images.append(image.load_img(str(img_path), target_size = (150,150,3)))\n",
    "   \n",
    "    if count > 300:\n",
    "        break\n",
    "   '''    \n",
    "covid_images = []\n",
    "count1 = 0\n",
    "\n",
    "for img_path in glob.glob(fullpath + \"/COVID/*\"):\n",
    "    count1 += 1\n",
    "    imagen = image.imread(img_path)\n",
    "    recorte = mxnet.img.imresize(imagen, dim,dim)\n",
    "    covid_images.append(recorte)\n",
    "    if count1 > cant_img:\n",
    "        break\n",
    "'''Lung_opcaity = []\n",
    "count2 = 0\n",
    "\n",
    "for img_path in glob.glob(fullpath + \"/Lung_Opacity/*\"):\n",
    "    count2 += 1\n",
    "    imagen = image.imread(img_path)\n",
    "    recorte = mxnet.img.imresize(imagen, dim,dim)\n",
    "    Lung_opcaity.append(recorte)\n",
    "    if count2 > cant_img:\n",
    "        break'''\n",
    "\n",
    "normal_images = []\n",
    "count2 = 0\n",
    "\n",
    "for img_path in glob.glob(fullpath + \"/Normal/*\"):\n",
    "    count2 += 1\n",
    "    imagen = image.imread(img_path)\n",
    "    recorte = mxnet.img.imresize(imagen, dim,dim)\n",
    "    normal_images.append(recorte)\n",
    "    if count2 > cant_img:\n",
    "        break\n",
    "        \n",
    "Viral_pneumonia = []\n",
    "count3 = 0\n",
    "\n",
    "for img_path in glob.glob(fullpath + \"/Viral Pneumonia/*\"):\n",
    "    count3 += 1\n",
    "    imagen = image.imread(img_path)\n",
    "    recorte = mxnet.img.imresize(imagen, dim,dim)\n",
    "    Viral_pneumonia.append(recorte)\n",
    "    if count3 > cant_img:\n",
    "        break\n",
    "        \n",
    "\n",
    "                \n",
    "        \n",
    "total=count1+count2+count3#total imagenes"
   ]
  },
  {
   "cell_type": "code",
   "execution_count": 9,
   "id": "c7e62b9e",
   "metadata": {},
   "outputs": [
    {
     "name": "stdout",
     "output_type": "stream",
     "text": [
      "1803\n",
      "1803\n"
     ]
    }
   ],
   "source": [
    "y=[]\n",
    "images_together = []#nd.zeros(shape=((cant_img+1)*3,150,150,3))\n",
    "'''\n",
    "for i in normal_images:\n",
    "    images_together.append(img_to_array(i))\n",
    "    target.append(0)\n",
    "'''\n",
    "#count_global = 0\n",
    "\n",
    "count1 = 0\n",
    "for i in covid_images:\n",
    "    images_together.append(i.asnumpy())#[count_global] = i\n",
    "    y.append(0)\n",
    "    count1=count1+1\n",
    "    #count_global=count_global+1\n",
    "\n",
    "'''count2 = 0\n",
    "for i in Lung_opcaity:\n",
    "    images_together.append(i.asnumpy())#[count_global] = i\n",
    "    y.append(1)\n",
    "    count2=count2+1'''\n",
    "    #count_global=count_global+1\n",
    "    \n",
    "count2 = 0\n",
    "for i in normal_images:\n",
    "    images_together.append(i.asnumpy())#[count_global] = i\n",
    "    y.append(1)\n",
    "    count2=count2+1\n",
    "    #count_global=count_global+1\n",
    "    \n",
    "count3 = 0\n",
    "for i in Viral_pneumonia:\n",
    "    images_together.append(i.asnumpy())#[count_global] = i\n",
    "    y.append(2)\n",
    "    count3=count3+1\n",
    "    #count_global=count_global+1\n",
    "\n",
    "print(len(images_together))\n",
    "print(len(y))\n",
    "\n",
    "\n"
   ]
  },
  {
   "cell_type": "code",
   "execution_count": 10,
   "id": "fc0f0356",
   "metadata": {},
   "outputs": [
    {
     "name": "stdout",
     "output_type": "stream",
     "text": [
      "0 Clase: Covid\n",
      "1 Clase: Normal\n",
      "2 Clase: Neumonia_viral\n"
     ]
    },
    {
     "data": {
      "image/png": "[encoded data removed]",
      "text/plain": [
       "<Figure size 432x288 with 3 Axes>"
      ]
     },
     "metadata": {
      "needs_background": "light"
     },
     "output_type": "display_data"
    }
   ],
   "source": [
    "images_together[0]\n",
    "clases = [\"Covid\",\"Normal\", \"Neumonia_viral\"]\n",
    "indices = [5,804,1500]\n",
    "\n",
    "fig, (ax1,ax2, ax3) = plt.subplots(1,3)\n",
    "\n",
    "ax1.title.set_text('Covid')\n",
    "ax1.imshow(images_together[indices[0]])\n",
    "ax2.title.set_text('Normal')\n",
    "ax2.imshow(images_together[indices[1]])\n",
    "ax3.title.set_text('Neumonia_viral')\n",
    "ax3.imshow(images_together[indices[2]])\n",
    "\n",
    "for i in range(len(indices)):\n",
    "    print(y[indices[i]],\"Clase: \"+clases[i])"
   ]
  },
  {
   "cell_type": "code",
   "execution_count": 11,
   "id": "73df05a8",
   "metadata": {},
   "outputs": [],
   "source": [
    "for i in range(len(images_together)):#normalizacion\n",
    "    images_together[i] = images_together[i]/255.0"
   ]
  },
  {
   "cell_type": "code",
   "execution_count": 12,
   "id": "21c8e238",
   "metadata": {},
   "outputs": [
    {
     "name": "stdout",
     "output_type": "stream",
     "text": [
      "[0 0 0 ... 2 2 2]\n"
     ]
    }
   ],
   "source": [
    "import mxnet.gluon.probability as mxp\n",
    "y=np.array(y)\n",
    "print(y)"
   ]
  },
  {
   "cell_type": "code",
   "execution_count": 13,
   "id": "83a08e35",
   "metadata": {},
   "outputs": [
    {
     "name": "stdout",
     "output_type": "stream",
     "text": [
      "shape of images together:  (1803, 150, 150, 3)\n",
      "type of images together <class 'numpy.ndarray'>\n",
      "shape of y:  (1803,)\n"
     ]
    }
   ],
   "source": [
    "import numpy as np\n",
    "images_together = np.array(images_together)\n",
    "print(\"shape of images together: \",images_together.shape)\n",
    "print(\"type of images together\",type(images_together))\n",
    "print(\"shape of y: \",y.shape)"
   ]
  },
  {
   "cell_type": "code",
   "execution_count": 14,
   "id": "47bb4eb6",
   "metadata": {},
   "outputs": [
    {
     "name": "stdout",
     "output_type": "stream",
     "text": [
      "(1803, 3, 150, 150)\n",
      "float32\n",
      "(1803,)\n",
      "int64\n"
     ]
    }
   ],
   "source": [
    "images_together=images_together.reshape((cant_img+1)*3,3,dim,dim)\n",
    "#print(images_together.shape)\n",
    "#images_together=images_together.reshape((cant_img+1)*3,3*150*150)\n",
    "print(images_together.shape)\n",
    "images_together = images_together.astype(np.float32)\n",
    "print(images_together.dtype)\n",
    "print(y.shape)\n",
    "print(y.dtype)"
   ]
  },
  {
   "cell_type": "code",
   "execution_count": 15,
   "id": "5bbd50af",
   "metadata": {},
   "outputs": [],
   "source": [
    "from sklearn.model_selection import train_test_split\n",
    "X_train, x_test, y_train, y_test = train_test_split(images_together, y, test_size=0.2, random_state=42, shuffle = True)\n",
    "\n",
    "images_together = np.concatenate((X_train, x_test))\n",
    "y = np.concatenate((y_train, y_test))"
   ]
  },
  {
   "cell_type": "code",
   "execution_count": 16,
   "id": "d5a6ddac",
   "metadata": {},
   "outputs": [],
   "source": [
    "import mxnet as mx\n",
    "from mxnet import gluon, nd\n",
    "\n",
    "num_gpus = 1\n",
    "model_ctx = mxnet.cpu()\n",
    "\n",
    "num_workers = 8\n",
    "batch_size = 64 \n",
    "\n",
    "dataset_train = gluon.data.dataset.ArrayDataset(X_train, y_train)\n",
    "data_loader_train = gluon.data.DataLoader(dataset_train, batch_size = batch_size, shuffle=True, last_batch='discard',  num_workers=0)\n",
    "\n",
    "dataset_test = gluon.data.dataset.ArrayDataset(X_train, y_train)\n",
    "data_loader_test = gluon.data.DataLoader(dataset_test, batch_size = batch_size,  shuffle=True, last_batch='discard', num_workers=0)"
   ]
  },
  {
   "cell_type": "code",
   "execution_count": 17,
   "id": "52f79bc3",
   "metadata": {},
   "outputs": [
    {
     "name": "stdout",
     "output_type": "stream",
     "text": [
      "<mxnet.gluon.data.dataloader.DataLoader object at 0x7f5ec443dc70>\n",
      "(64, 3, 150, 150)\n",
      "(64,)\n"
     ]
    }
   ],
   "source": [
    "print(data_loader_train)\n",
    "for X,y in data_loader_train:\n",
    "    print(X.shape)\n",
    "    print(y.shape)\n",
    "    break"
   ]
  },
  {
   "cell_type": "markdown",
   "id": "60d5790d",
   "metadata": {},
   "source": [
    "# BBB Resnet"
   ]
  },
  {
   "cell_type": "code",
   "execution_count": 18,
   "id": "b1bc1ceb",
   "metadata": {},
   "outputs": [],
   "source": [
    "import numpy as np\n",
    "from hamiltonian import utils\n",
    "\n",
    "num_examples,channel,w,h=X_train.shape\n",
    "num_input=channel*w*h\n",
    "num_outputs=len(np.unique(y_train))\n",
    "\n",
    "#y_train=utils.one_hot(y_train,num_outputs)\n",
    "#y_test=utils.one_hot(y_test,num_outputs)"
   ]
  },
  {
   "cell_type": "code",
   "execution_count": 19,
   "id": "23fc11d7",
   "metadata": {},
   "outputs": [
    {
     "name": "stdout",
     "output_type": "stream",
     "text": [
      "1442\n",
      "67500\n",
      "3\n"
     ]
    }
   ],
   "source": [
    "print(num_examples)\n",
    "print(num_input)\n",
    "print(num_outputs)"
   ]
  },
  {
   "cell_type": "code",
   "execution_count": 20,
   "id": "51eb42f3",
   "metadata": {},
   "outputs": [
    {
     "name": "stdout",
     "output_type": "stream",
     "text": [
      "(150, 150) 3\n"
     ]
    }
   ],
   "source": [
    "import mxnet as mx\n",
    "from mxnet import nd, autograd, gluon\n",
    "model_ctx=mx.cpu()\n",
    "hyper={'alpha':10.}\n",
    "#in_units=X_train.shape[2],X_train.shape[3]\n",
    "in_units=(dim,dim)\n",
    "out_units=len(np.unique(y_train))\n",
    "print(in_units, out_units)\n",
    "n_layers=18\n",
    "pre_trained=False"
   ]
  },
  {
   "cell_type": "code",
   "execution_count": 21,
   "id": "59f15826",
   "metadata": {},
   "outputs": [],
   "source": [
    "import mxnet as mx\n",
    "from hamiltonian.inference.bbb import bbb\n",
    "from hamiltonian.models.softmax import resnet_softmax\n",
    "\n",
    "model=resnet_softmax(hyper,in_units,out_units,n_layers,pre_trained,ctx=model_ctx)\n",
    "inference=bbb(model,model.par,step_size=0.0001,ctx=model_ctx)"
   ]
  },
  {
   "cell_type": "code",
   "execution_count": 22,
   "id": "f5b05683",
   "metadata": {},
   "outputs": [
    {
     "name": "stderr",
     "output_type": "stream",
     "text": [
      "  0%|                                                    | 0/20 [00:01<?, ?it/s]\n"
     ]
    },
    {
     "ename": "MXNetError",
     "evalue": "Traceback (most recent call last):\n  File \"/home/proyecto/mxnet/src/imperative/imperative.cc\", line 90\nMXNetError: Operator _NoGradient is not implemented for CPU.",
     "output_type": "error",
     "traceback": [
      "\u001b[0;31m---------------------------------------------------------------------------\u001b[0m",
      "\u001b[0;31mMXNetError\u001b[0m                                Traceback (most recent call last)",
      "\u001b[0;32m/tmp/ipykernel_27588/3755386304.py\u001b[0m in \u001b[0;36m<module>\u001b[0;34m\u001b[0m\n\u001b[0;32m----> 1\u001b[0;31m \u001b[0mpar\u001b[0m\u001b[0;34m,\u001b[0m\u001b[0mloss\u001b[0m\u001b[0;34m=\u001b[0m\u001b[0minference\u001b[0m\u001b[0;34m.\u001b[0m\u001b[0mfit\u001b[0m\u001b[0;34m(\u001b[0m\u001b[0mepochs\u001b[0m\u001b[0;34m=\u001b[0m\u001b[0;36m20\u001b[0m\u001b[0;34m,\u001b[0m\u001b[0mbatch_size\u001b[0m\u001b[0;34m=\u001b[0m\u001b[0;36m64\u001b[0m\u001b[0;34m,\u001b[0m\u001b[0mdata_loader\u001b[0m\u001b[0;34m=\u001b[0m\u001b[0mdata_loader_train\u001b[0m\u001b[0;34m,\u001b[0m\u001b[0mverbose\u001b[0m\u001b[0;34m=\u001b[0m\u001b[0;32mTrue\u001b[0m\u001b[0;34m)\u001b[0m\u001b[0;34m\u001b[0m\u001b[0;34m\u001b[0m\u001b[0m\n\u001b[0m",
      "\u001b[0;32m~/Escritorio/hamiltonian_mxnet/benchmarks/Resnet18- Covid/BBB/../../../hamiltonian/inference/bbb.py\u001b[0m in \u001b[0;36mfit\u001b[0;34m(self, epochs, batch_size, **args)\u001b[0m\n\u001b[1;32m     46\u001b[0m                         \u001b[0mpar\u001b[0m\u001b[0;34m[\u001b[0m\u001b[0mvar\u001b[0m\u001b[0;34m]\u001b[0m\u001b[0;34m[\u001b[0m\u001b[0;34m:\u001b[0m\u001b[0;34m]\u001b[0m\u001b[0;34m=\u001b[0m\u001b[0mmeans\u001b[0m\u001b[0;34m[\u001b[0m\u001b[0mvar\u001b[0m\u001b[0;34m]\u001b[0m \u001b[0;34m+\u001b[0m \u001b[0;34m(\u001b[0m\u001b[0mstds\u001b[0m\u001b[0;34m[\u001b[0m\u001b[0mvar\u001b[0m\u001b[0;34m]\u001b[0m \u001b[0;34m*\u001b[0m \u001b[0mepsilons\u001b[0m\u001b[0;34m[\u001b[0m\u001b[0mvar\u001b[0m\u001b[0;34m]\u001b[0m\u001b[0;34m)\u001b[0m\u001b[0;34m\u001b[0m\u001b[0;34m\u001b[0m\u001b[0m\n\u001b[1;32m     47\u001b[0m                     \u001b[0mloss\u001b[0m \u001b[0;34m=\u001b[0m \u001b[0mself\u001b[0m\u001b[0;34m.\u001b[0m\u001b[0mloss\u001b[0m\u001b[0;34m(\u001b[0m\u001b[0mpar\u001b[0m\u001b[0;34m,\u001b[0m\u001b[0mmeans\u001b[0m\u001b[0;34m,\u001b[0m\u001b[0msigmas\u001b[0m\u001b[0;34m,\u001b[0m\u001b[0mn_examples\u001b[0m\u001b[0;34m*\u001b[0m\u001b[0mbatch_size\u001b[0m\u001b[0;34m,\u001b[0m\u001b[0mbatch_size\u001b[0m\u001b[0;34m,\u001b[0m\u001b[0mX_train\u001b[0m\u001b[0;34m=\u001b[0m\u001b[0mX_batch\u001b[0m\u001b[0;34m,\u001b[0m\u001b[0my_train\u001b[0m\u001b[0;34m=\u001b[0m\u001b[0my_batch\u001b[0m\u001b[0;34m)\u001b[0m\u001b[0;34m\u001b[0m\u001b[0;34m\u001b[0m\u001b[0m\n\u001b[0;32m---> 48\u001b[0;31m                 \u001b[0mloss\u001b[0m\u001b[0;34m.\u001b[0m\u001b[0mbackward\u001b[0m\u001b[0;34m(\u001b[0m\u001b[0;34m)\u001b[0m\u001b[0;31m#calculo de derivadas parciales de la funcion segun sus meansametros. por retropropagacion\u001b[0m\u001b[0;34m\u001b[0m\u001b[0;34m\u001b[0m\u001b[0m\n\u001b[0m\u001b[1;32m     49\u001b[0m                 \u001b[0;31m#loss es el gradiente\u001b[0m\u001b[0;34m\u001b[0m\u001b[0;34m\u001b[0m\u001b[0;34m\u001b[0m\u001b[0m\n\u001b[1;32m     50\u001b[0m                 \u001b[0mmeans_momentum\u001b[0m\u001b[0;34m,\u001b[0m \u001b[0mmeans\u001b[0m \u001b[0;34m=\u001b[0m \u001b[0mself\u001b[0m\u001b[0;34m.\u001b[0m\u001b[0mstep\u001b[0m\u001b[0;34m(\u001b[0m\u001b[0mbatch_size\u001b[0m\u001b[0;34m,\u001b[0m\u001b[0mmeans_momentum\u001b[0m\u001b[0;34m,\u001b[0m \u001b[0mmeans\u001b[0m\u001b[0;34m)\u001b[0m\u001b[0;34m\u001b[0m\u001b[0;34m\u001b[0m\u001b[0m\n",
      "\u001b[0;32m~/mxnet/python/mxnet/ndarray/ndarray.py\u001b[0m in \u001b[0;36mbackward\u001b[0;34m(self, out_grad, retain_graph, train_mode)\u001b[0m\n\u001b[1;32m   2906\u001b[0m             \u001b[0mograd_handles\u001b[0m \u001b[0;34m=\u001b[0m \u001b[0;34m[\u001b[0m\u001b[0mout_grad\u001b[0m\u001b[0;34m.\u001b[0m\u001b[0mhandle\u001b[0m\u001b[0;34m]\u001b[0m\u001b[0;34m\u001b[0m\u001b[0;34m\u001b[0m\u001b[0m\n\u001b[1;32m   2907\u001b[0m \u001b[0;34m\u001b[0m\u001b[0m\n\u001b[0;32m-> 2908\u001b[0;31m         check_call(_LIB.MXAutogradBackwardEx(\n\u001b[0m\u001b[1;32m   2909\u001b[0m             \u001b[0;36m1\u001b[0m\u001b[0;34m,\u001b[0m \u001b[0mc_handle_array\u001b[0m\u001b[0;34m(\u001b[0m\u001b[0;34m[\u001b[0m\u001b[0mself\u001b[0m\u001b[0;34m]\u001b[0m\u001b[0;34m)\u001b[0m\u001b[0;34m,\u001b[0m\u001b[0;34m\u001b[0m\u001b[0;34m\u001b[0m\u001b[0m\n\u001b[1;32m   2910\u001b[0m             \u001b[0mc_array\u001b[0m\u001b[0;34m(\u001b[0m\u001b[0mNDArrayHandle\u001b[0m\u001b[0;34m,\u001b[0m \u001b[0mograd_handles\u001b[0m\u001b[0;34m)\u001b[0m\u001b[0;34m,\u001b[0m\u001b[0;34m\u001b[0m\u001b[0;34m\u001b[0m\u001b[0m\n",
      "\u001b[0;32m~/mxnet/python/mxnet/base.py\u001b[0m in \u001b[0;36mcheck_call\u001b[0;34m(ret)\u001b[0m\n\u001b[1;32m    244\u001b[0m     \"\"\"\n\u001b[1;32m    245\u001b[0m     \u001b[0;32mif\u001b[0m \u001b[0mret\u001b[0m \u001b[0;34m!=\u001b[0m \u001b[0;36m0\u001b[0m\u001b[0;34m:\u001b[0m\u001b[0;34m\u001b[0m\u001b[0;34m\u001b[0m\u001b[0m\n\u001b[0;32m--> 246\u001b[0;31m         \u001b[0;32mraise\u001b[0m \u001b[0mget_last_ffi_error\u001b[0m\u001b[0;34m(\u001b[0m\u001b[0;34m)\u001b[0m\u001b[0;34m\u001b[0m\u001b[0;34m\u001b[0m\u001b[0m\n\u001b[0m\u001b[1;32m    247\u001b[0m \u001b[0;34m\u001b[0m\u001b[0m\n\u001b[1;32m    248\u001b[0m \u001b[0;34m\u001b[0m\u001b[0m\n",
      "\u001b[0;31mMXNetError\u001b[0m: Traceback (most recent call last):\n  File \"/home/proyecto/mxnet/src/imperative/imperative.cc\", line 90\nMXNetError: Operator _NoGradient is not implemented for CPU."
     ]
    }
   ],
   "source": [
    "par,loss=inference.fit(epochs=20,batch_size=64,data_loader=data_loader_train,verbose=True)"
   ]
  },
  {
   "cell_type": "code",
   "execution_count": null,
   "id": "1901d63d",
   "metadata": {},
   "outputs": [],
   "source": [
    "import matplotlib.pyplot as plt\n",
    "import seaborn as sns\n",
    "plt.rcParams['figure.dpi'] = 360\n",
    "sns.set_style(\"whitegrid\")\n",
    "\n",
    "\n",
    "fig=plt.figure(figsize=[5,5])\n",
    "plt.plot(loss,color='blue',lw=3)\n",
    "plt.xlabel('Epoch', size=18)\n",
    "plt.ylabel('Loss', size=18)\n",
    "plt.title('BBB COVID RESNET', size=18)\n",
    "plt.xticks(size=14)\n",
    "plt.yticks(size=14)\n",
    "plt.show()"
   ]
  },
  {
   "cell_type": "code",
   "execution_count": null,
   "id": "2c723ec6",
   "metadata": {},
   "outputs": [],
   "source": [
    "total_samples,total_labels,log_like=inference.predict(par,batch_size=batch_size,num_samples=10,data_loader=data_loader_test)"
   ]
  },
  {
   "cell_type": "code",
   "execution_count": null,
   "id": "471f98f2",
   "metadata": {},
   "outputs": [],
   "source": [
    "y_hat=np.quantile(total_samples,.8,axis=0)"
   ]
  },
  {
   "cell_type": "code",
   "execution_count": null,
   "id": "f7434af8",
   "metadata": {},
   "outputs": [],
   "source": [
    "from sklearn.metrics import classification_report\n",
    "\n",
    "print(classification_report(np.int32(total_labels),np.int32(y_hat)))"
   ]
  },
  {
   "cell_type": "code",
   "execution_count": null,
   "id": "36264ec5",
   "metadata": {},
   "outputs": [],
   "source": []
  }
 ],
 "metadata": {
  "kernelspec": {
   "display_name": "Python 3 (ipykernel)",
   "language": "python",
   "name": "python3"
  },
  "language_info": {
   "codemirror_mode": {
    "name": "ipython",
    "version": 3
   },
   "file_extension": ".py",
   "mimetype": "text/x-python",
   "name": "python",
   "nbconvert_exporter": "python",
   "pygments_lexer": "ipython3",
   "version": "3.8.10"
  }
 },
 "nbformat": 4,
 "nbformat_minor": 5
}
