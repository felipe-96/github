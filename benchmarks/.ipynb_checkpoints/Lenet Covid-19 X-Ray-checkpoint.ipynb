{
 "cells": [
  {
   "cell_type": "code",
   "execution_count": 1,
   "id": "d67de334",
   "metadata": {},
   "outputs": [],
   "source": [
    "import sys\n",
    "sys.path.append(\"../\") "
   ]
  },
  {
   "cell_type": "code",
   "execution_count": 2,
   "id": "5fa541bd",
   "metadata": {},
   "outputs": [],
   "source": [
    "import pandas as pd \n",
    "import matplotlib.pyplot as plt\n",
    "import matplotlib.image as mpimg\n",
    "import glob\n",
    "import os\n"
   ]
  },
  {
   "cell_type": "code",
   "execution_count": 3,
   "id": "8dd69a34",
   "metadata": {},
   "outputs": [],
   "source": [
    "import numpy as np\n",
    "from hamiltonian import utils"
   ]
  },
  {
   "cell_type": "code",
   "execution_count": 4,
   "id": "478999ee",
   "metadata": {},
   "outputs": [
    {
     "name": "stdout",
     "output_type": "stream",
     "text": [
      "../kaggle/input\n",
      "../kaggle/input/covid19-radiography-database\n",
      "../kaggle/input/covid19-radiography-database/COVID-19_Radiography_Dataset\n",
      "../kaggle/input/covid19-radiography-database/COVID-19_Radiography_Dataset/COVID\n",
      "../kaggle/input/covid19-radiography-database/COVID-19_Radiography_Dataset/Lung_Opacity\n",
      "../kaggle/input/covid19-radiography-database/COVID-19_Radiography_Dataset/Viral Pneumonia\n",
      "../kaggle/input/covid19-radiography-database/COVID-19_Radiography_Dataset/Normal\n"
     ]
    }
   ],
   "source": [
    "path = []\n",
    "for dirname, _, filenames in os.walk('../kaggle/input'):\n",
    "    print(dirname)\n",
    "    for filename in filenames:\n",
    "        if (filename[-3:] == 'png'):\n",
    "            path.append(os.path.join(dirname, filename))"
   ]
  },
  {
   "cell_type": "code",
   "execution_count": 5,
   "id": "20497388",
   "metadata": {},
   "outputs": [
    {
     "data": {
      "text/plain": [
       "['README.md.txt',\n",
       " 'COVID',\n",
       " 'Lung_Opacity',\n",
       " 'Normal.metadata.xlsx',\n",
       " 'Lung_Opacity.metadata.xlsx',\n",
       " 'COVID.metadata.xlsx',\n",
       " 'Viral Pneumonia',\n",
       " 'Normal',\n",
       " 'Viral Pneumonia.metadata.xlsx']"
      ]
     },
     "execution_count": 5,
     "metadata": {},
     "output_type": "execute_result"
    }
   ],
   "source": [
    "fullpath = \"../kaggle/input/covid19-radiography-database/COVID-19_Radiography_Dataset\"\n",
    "\n",
    "os.listdir(fullpath)"
   ]
  },
  {
   "cell_type": "code",
   "execution_count": 6,
   "id": "9ee057e8",
   "metadata": {},
   "outputs": [
    {
     "name": "stderr",
     "output_type": "stream",
     "text": [
      "/home/proyecto/.local/lib/python3.8/site-packages/seaborn/_decorators.py:36: FutureWarning: Pass the following variable as a keyword arg: x. From version 0.12, the only valid positional argument will be `data`, and passing other arguments without an explicit keyword will result in an error or misinterpretation.\n",
      "  warnings.warn(\n"
     ]
    },
    {
     "data": {
      "image/png": "[encoded data removed]",
      "text/plain": [
       "<Figure size 432x288 with 1 Axes>"
      ]
     },
     "metadata": {
      "needs_background": "light"
     },
     "output_type": "display_data"
    }
   ],
   "source": [
    "list_files=[]\n",
    "for dir in os.listdir(fullpath):\n",
    "  directory = os.path.join(fullpath,dir)\n",
    "  \n",
    "  if os.path.isdir(directory):\n",
    "    for img in os.listdir(directory):\n",
    "      list_files.append([os.path.join(dir,img),dir])\n",
    "df = pd.DataFrame(list_files, columns=['id','label'])\n",
    "df.describe()\n",
    "list_files = []\n",
    "for dir in os.listdir(fullpath):\n",
    "  directory = os.path.join(fullpath,dir)\n",
    "\n",
    "import seaborn as sns\n",
    "sns.countplot(df.label)\n",
    "plt.show()"
   ]
  },
  {
   "cell_type": "code",
   "execution_count": 7,
   "id": "fd86a684",
   "metadata": {},
   "outputs": [],
   "source": [
    "import mxnet\n",
    "from mxnet import image, nd\n",
    "dim = 299"
   ]
  },
  {
   "cell_type": "code",
   "execution_count": 8,
   "id": "cdda40b2",
   "metadata": {},
   "outputs": [
    {
     "name": "stderr",
     "output_type": "stream",
     "text": [
      "[16:46:03] /home/proyecto/mxnet/src/storage/storage.cc:199: Using Pooled (Naive) StorageManager for CPU\n",
      "Exception ignored in: <function NDArrayBase.__del__ at 0x7fe69f8abd30>\n",
      "Traceback (most recent call last):\n",
      "  File \"/home/proyecto/mxnet/python/mxnet/_ctypes/ndarray.py\", line 52, in __del__\n",
      "    self._alive = False\n",
      "KeyboardInterrupt: \n",
      "Exception ignored in: <function NDArrayBase.__del__ at 0x7fe69f8abd30>\n",
      "Traceback (most recent call last):\n",
      "  File \"/home/proyecto/mxnet/python/mxnet/_ctypes/ndarray.py\", line 50, in __del__\n",
      "    def __del__(self):\n",
      "KeyboardInterrupt: \n",
      "Exception ignored in: <function NDArrayBase.__del__ at 0x7fe69f8abd30>\n",
      "Traceback (most recent call last):\n",
      "  File \"/home/proyecto/mxnet/python/mxnet/_ctypes/ndarray.py\", line 52, in __del__\n",
      "    self._alive = False\n",
      "KeyboardInterrupt: \n",
      "Exception ignored in: <function NDArrayBase.__del__ at 0x7fe69f8abd30>\n",
      "Traceback (most recent call last):\n",
      "  File \"/home/proyecto/mxnet/python/mxnet/_ctypes/ndarray.py\", line 50, in __del__\n",
      "    def __del__(self):\n",
      "KeyboardInterrupt: \n",
      "Exception ignored in: <function NDArrayBase.__del__ at 0x7fe69f8abd30>\n",
      "Traceback (most recent call last):\n",
      "  File \"/home/proyecto/mxnet/python/mxnet/_ctypes/ndarray.py\", line 50, in __del__\n",
      "    def __del__(self):\n",
      "KeyboardInterrupt: \n",
      "Exception ignored in: <function NDArrayBase.__del__ at 0x7fe69f8abd30>\n",
      "Traceback (most recent call last):\n",
      "  File \"/home/proyecto/mxnet/python/mxnet/_ctypes/ndarray.py\", line 50, in __del__\n",
      "    def __del__(self):\n",
      "KeyboardInterrupt: \n",
      "Exception ignored in: <function NDArrayBase.__del__ at 0x7fe69f8abd30>\n",
      "Traceback (most recent call last):\n",
      "  File \"/home/proyecto/mxnet/python/mxnet/_ctypes/ndarray.py\", line 50, in __del__\n",
      "    def __del__(self):\n",
      "KeyboardInterrupt: \n",
      "Exception ignored in: <function NDArrayBase.__del__ at 0x7fe69f8abd30>\n",
      "Traceback (most recent call last):\n",
      "  File \"/home/proyecto/mxnet/python/mxnet/_ctypes/ndarray.py\", line 51, in __del__\n",
      "    check_call(_LIB.MXNDArrayFree(self.handle))\n",
      "KeyboardInterrupt: \n",
      "ERROR:root:Internal Python error in the inspect module.\n",
      "Below is the traceback from this internal error.\n",
      "\n"
     ]
    },
    {
     "name": "stdout",
     "output_type": "stream",
     "text": [
      "Traceback (most recent call last):\n",
      "  File \"/home/proyecto/.local/lib/python3.8/site-packages/IPython/core/interactiveshell.py\", line 3441, in run_code\n",
      "    exec(code_obj, self.user_global_ns, self.user_ns)\n",
      "  File \"/tmp/ipykernel_58772/4007550769.py\", line 18, in <module>\n",
      "    plt.imshow(imagen)\n",
      "  File \"/home/proyecto/.local/lib/python3.8/site-packages/matplotlib/pyplot.py\", line 2903, in imshow\n",
      "    __ret = gca().imshow(\n",
      "  File \"/home/proyecto/.local/lib/python3.8/site-packages/matplotlib/__init__.py\", line 1361, in inner\n",
      "    return func(ax, *map(sanitize_sequence, args), **kwargs)\n",
      "  File \"/home/proyecto/.local/lib/python3.8/site-packages/matplotlib/axes/_axes.py\", line 5609, in imshow\n",
      "    im.set_data(X)\n",
      "  File \"/home/proyecto/.local/lib/python3.8/site-packages/matplotlib/image.py\", line 696, in set_data\n",
      "    self._A = cbook.safe_masked_invalid(A, copy=True)\n",
      "  File \"/home/proyecto/.local/lib/python3.8/site-packages/matplotlib/cbook/__init__.py\", line 736, in safe_masked_invalid\n",
      "    x = np.array(x, subok=True, copy=copy)\n",
      "  File \"/home/proyecto/mxnet/python/mxnet/ndarray/ndarray.py\", line 732, in __getitem__\n",
      "    shape = self.shape\n",
      "  File \"/home/proyecto/mxnet/python/mxnet/ndarray/ndarray.py\", line 2444, in shape\n",
      "    check_call(_LIB.MXNDArrayGetShape64(\n",
      "KeyboardInterrupt\n",
      "\n",
      "During handling of the above exception, another exception occurred:\n",
      "\n",
      "Traceback (most recent call last):\n",
      "  File \"/home/proyecto/.local/lib/python3.8/site-packages/IPython/core/interactiveshell.py\", line 2061, in showtraceback\n",
      "    stb = value._render_traceback_()\n",
      "AttributeError: 'KeyboardInterrupt' object has no attribute '_render_traceback_'\n",
      "\n",
      "During handling of the above exception, another exception occurred:\n",
      "\n",
      "Traceback (most recent call last):\n",
      "  File \"/home/proyecto/.local/lib/python3.8/site-packages/IPython/core/ultratb.py\", line 1101, in get_records\n",
      "    return _fixed_getinnerframes(etb, number_of_lines_of_context, tb_offset)\n",
      "  File \"/home/proyecto/.local/lib/python3.8/site-packages/IPython/core/ultratb.py\", line 248, in wrapped\n",
      "    return f(*args, **kwargs)\n",
      "  File \"/home/proyecto/.local/lib/python3.8/site-packages/IPython/core/ultratb.py\", line 281, in _fixed_getinnerframes\n",
      "    records = fix_frame_records_filenames(inspect.getinnerframes(etb, context))\n",
      "  File \"/usr/lib/python3.8/inspect.py\", line 1515, in getinnerframes\n",
      "    frameinfo = (tb.tb_frame,) + getframeinfo(tb, context)\n",
      "  File \"/usr/lib/python3.8/inspect.py\", line 1473, in getframeinfo\n",
      "    filename = getsourcefile(frame) or getfile(frame)\n",
      "  File \"/usr/lib/python3.8/inspect.py\", line 708, in getsourcefile\n",
      "    if getattr(getmodule(object, filename), '__loader__', None) is not None:\n",
      "  File \"/usr/lib/python3.8/inspect.py\", line 754, in getmodule\n",
      "    os.path.realpath(f)] = module.__name__\n",
      "  File \"/usr/lib/python3.8/posixpath.py\", line 391, in realpath\n",
      "    path, ok = _joinrealpath(filename[:0], filename, {})\n",
      "  File \"/usr/lib/python3.8/posixpath.py\", line 411, in _joinrealpath\n",
      "    name, _, rest = rest.partition(sep)\n",
      "KeyboardInterrupt\n"
     ]
    },
    {
     "name": "stderr",
     "output_type": "stream",
     "text": [
      "\n",
      "KeyboardInterrupt\n",
      "\n"
     ]
    },
    {
     "data": {
      "image/png": "[encoded data removed]",
      "text/plain": [
       "<Figure size 432x288 with 1 Axes>"
      ]
     },
     "metadata": {
      "needs_background": "light"
     },
     "output_type": "display_data"
    }
   ],
   "source": [
    "cant_img = 600#cantidad de imagenes a procesar\n",
    "\n",
    "count = 0\n",
    "'''\n",
    "for img_path in glob.glob(DATASET_DIR + \"/Normal/*\"):\n",
    "    count += 1\n",
    "    normal_images.append(image.load_img(str(img_path), target_size = (150,150,3)))\n",
    "   \n",
    "    if count > 300:\n",
    "        break\n",
    "   '''    \n",
    "covid_images = []\n",
    "count1 = 0\n",
    "\n",
    "for img_path in glob.glob(fullpath + \"/COVID/*\"):\n",
    "    count1 += 1\n",
    "    imagen = image.imread(img_path)\n",
    "    recorte = mxnet.img.imresize(imagen, dim,dim)\n",
    "    covid_images.append(recorte)\n",
    "    if count1 > cant_img:\n",
    "        break\n",
    "'''Lung_opcaity = []\n",
    "count2 = 0\n",
    "\n",
    "for img_path in glob.glob(fullpath + \"/Lung_Opacity/*\"):\n",
    "    count2 += 1\n",
    "    imagen = image.imread(img_path)\n",
    "    recorte = mxnet.img.imresize(imagen, dim,dim)\n",
    "    Lung_opcaity.append(recorte)\n",
    "    if count2 > cant_img:\n",
    "        break'''\n",
    "\n",
    "normal_images = []\n",
    "count2 = 0\n",
    "\n",
    "for img_path in glob.glob(fullpath + \"/Normal/*\"):\n",
    "    count2 += 1\n",
    "    imagen = image.imread(img_path)\n",
    "    recorte = mxnet.img.imresize(imagen, dim,dim)\n",
    "    normal_images.append(recorte)\n",
    "    if count2 > cant_img:\n",
    "        break\n",
    "        \n",
    "Viral_pneumonia = []\n",
    "count3 = 0\n",
    "\n",
    "for img_path in glob.glob(fullpath + \"/Viral Pneumonia/*\"):\n",
    "    count3 += 1\n",
    "    imagen = image.imread(img_path)\n",
    "    recorte = mxnet.img.imresize(imagen, dim,dim)\n",
    "    Viral_pneumonia.append(recorte)\n",
    "    if count3 > cant_img:\n",
    "        break\n",
    "        \n",
    "\n",
    "                \n",
    "        \n",
    "total=count1+count2+count3#total imagenes"
   ]
  },
  {
   "cell_type": "code",
   "execution_count": null,
   "id": "17406fc1",
   "metadata": {},
   "outputs": [],
   "source": [
    "y=[]\n",
    "images_together = []#nd.zeros(shape=((cant_img+1)*3,150,150,3))\n",
    "'''\n",
    "for i in normal_images:\n",
    "    images_together.append(img_to_array(i))\n",
    "    target.append(0)\n",
    "'''\n",
    "#count_global = 0\n",
    "\n",
    "count1 = 0\n",
    "for i in covid_images:\n",
    "    images_together.append(i.asnumpy())#[count_global] = i\n",
    "    y.append(0)\n",
    "    count1=count1+1\n",
    "    #count_global=count_global+1\n",
    "\n",
    "'''count2 = 0\n",
    "for i in Lung_opcaity:\n",
    "    images_together.append(i.asnumpy())#[count_global] = i\n",
    "    y.append(1)\n",
    "    count2=count2+1'''\n",
    "    #count_global=count_global+1\n",
    "    \n",
    "count2 = 0\n",
    "for i in normal_images:\n",
    "    images_together.append(i.asnumpy())#[count_global] = i\n",
    "    y.append(1)\n",
    "    count2=count2+1\n",
    "    #count_global=count_global+1\n",
    "    \n",
    "count3 = 0\n",
    "for i in Viral_pneumonia:\n",
    "    images_together.append(i.asnumpy())#[count_global] = i\n",
    "    y.append(2)\n",
    "    count3=count3+1\n",
    "    #count_global=count_global+1\n",
    "\n",
    "print(len(images_together))\n",
    "print(len(y))\n",
    "\n",
    "\n"
   ]
  },
  {
   "cell_type": "code",
   "execution_count": null,
   "id": "ad32c5dc",
   "metadata": {},
   "outputs": [],
   "source": [
    "images_together[0]\n",
    "clases = [\"Covid\",\"Normal\", \"Neumonia_viral\"]\n",
    "indices = [5,804,1500]\n",
    "\n",
    "fig, (ax1,ax2, ax3) = plt.subplots(1,3)\n",
    "\n",
    "ax1.title.set_text('Covid')\n",
    "ax1.imshow(images_together[indices[0]])\n",
    "ax2.title.set_text('Normal')\n",
    "ax2.imshow(images_together[indices[1]])\n",
    "ax3.title.set_text('Neumonia_viral')\n",
    "ax3.imshow(images_together[indices[2]])\n",
    "\n",
    "for i in range(len(indices)):\n",
    "    print(y[indices[i]],\"Clase: \"+clases[i])"
   ]
  },
  {
   "cell_type": "code",
   "execution_count": null,
   "id": "3f726f6a",
   "metadata": {},
   "outputs": [],
   "source": [
    "for i in range(len(images_together)):#normalizacion\n",
    "    images_together[i] = images_together[i]/255.0"
   ]
  },
  {
   "cell_type": "code",
   "execution_count": null,
   "id": "d104bc7e",
   "metadata": {},
   "outputs": [],
   "source": [
    "import mxnet.gluon.probability as mxp\n",
    "y=np.array(y)\n",
    "print(y)\n"
   ]
  },
  {
   "cell_type": "code",
   "execution_count": null,
   "id": "ebd9e92b",
   "metadata": {},
   "outputs": [],
   "source": [
    "import numpy as np\n",
    "images_together = np.array(images_together)\n",
    "print(\"shape of images together: \",images_together.shape)\n",
    "print(\"type of images together\",type(images_together))\n",
    "print(\"shape of y: \",y.shape)"
   ]
  },
  {
   "cell_type": "code",
   "execution_count": null,
   "id": "04f47bcb",
   "metadata": {},
   "outputs": [],
   "source": [
    "images_together=images_together.reshape((cant_img+1)*3,3,dim,dim)\n",
    "#print(images_together.shape)\n",
    "#images_together=images_together.reshape((cant_img+1)*3,3*150*150)\n",
    "print(images_together.shape)\n",
    "images_together = images_together.astype(np.float32)\n",
    "print(images_together.dtype)\n",
    "print(y.shape)\n",
    "print(y.dtype)"
   ]
  },
  {
   "cell_type": "code",
   "execution_count": null,
   "id": "652d52bf",
   "metadata": {},
   "outputs": [],
   "source": [
    "from sklearn.model_selection import train_test_split\n",
    "X_train, x_test, y_train, y_test = train_test_split(images_together, y, test_size=0.2, stratify=y, shuffle = True)\n",
    "\n",
    "images_together = np.concatenate((X_train, x_test))\n",
    "y = np.concatenate((y_train, y_test))"
   ]
  },
  {
   "cell_type": "code",
   "execution_count": null,
   "id": "65e10782",
   "metadata": {},
   "outputs": [],
   "source": [
    "transform = transforms.Compose([\n",
    "    transforms.ToTensor(),\n",
    "    transforms.Normalize(0.,1.)\n",
    "])"
   ]
  },
  {
   "cell_type": "code",
   "execution_count": null,
   "id": "d24790e2",
   "metadata": {},
   "outputs": [],
   "source": [
    "import mxnet as mx\n",
    "from mxnet import gluon, nd\n",
    "\n",
    "num_gpus = 1\n",
    "model_ctx = mxnet.cpu()\n",
    "\n",
    "num_workers = 8\n",
    "batch_size = 64 \n",
    "\n",
    "dataset_train = gluon.data.dataset.ArrayDataset(X_train, y_train)\n",
    "data_loader_train = gluon.data.DataLoader(dataset_train.transform_first(transform), batch_size = batch_size, shuffle=True, last_batch='discard',  num_workers=0)\n",
    "\n",
    "dataset_test = gluon.data.dataset.ArrayDataset(X_train, y_train)\n",
    "data_loader_test = gluon.data.DataLoader(dataset_test.transform_first(transform), batch_size = batch_size,  shuffle=True, last_batch='discard', num_workers=0)"
   ]
  },
  {
   "cell_type": "code",
   "execution_count": null,
   "id": "78dfc61b",
   "metadata": {},
   "outputs": [],
   "source": [
    "for X,y in data_loader_train:\n",
    "    print(X.shape)\n",
    "    print(y.shape)\n",
    "    break"
   ]
  },
  {
   "cell_type": "markdown",
   "id": "9b2e35c4",
   "metadata": {},
   "source": [
    "# SGD - Lenet"
   ]
  },
  {
   "cell_type": "code",
   "execution_count": null,
   "id": "1e23b139",
   "metadata": {},
   "outputs": [],
   "source": [
    "import numpy as np\n",
    "from hamiltonian import utils\n",
    "\n",
    "num_examples,channel,w,h=X_train.shape\n",
    "num_input=channel*w*h\n",
    "num_outputs=len(np.unique(y_train))\n",
    "\n",
    "#y_train=utils.one_hot(y_train,num_outputs)\n",
    "#y_test=utils.one_hot(y_test,num_outputs)"
   ]
  },
  {
   "cell_type": "code",
   "execution_count": null,
   "id": "4e03b879",
   "metadata": {},
   "outputs": [],
   "source": [
    "print(num_examples)\n",
    "print(num_input)\n",
    "print(num_outputs)"
   ]
  },
  {
   "cell_type": "code",
   "execution_count": null,
   "id": "93e32bf7",
   "metadata": {},
   "outputs": [],
   "source": [
    "import mxnet as mx\n",
    "from mxnet import nd, autograd, gluon\n",
    "model_ctx=mx.cpu()\n",
    "hyper={'alpha':10.}\n",
    "#in_units=X_train.shape[2],X_train.shape[3]\n",
    "in_units=(dim,dim)\n",
    "out_units=len(np.unique(y_train))\n",
    "print(in_units, out_units)"
   ]
  },
  {
   "cell_type": "code",
   "execution_count": null,
   "id": "ff9b4de4",
   "metadata": {},
   "outputs": [],
   "source": [
    "import mxnet as mx\n",
    "from hamiltonian.inference.sgd import sgd\n",
    "from hamiltonian.models.softmax import lenet\n",
    "model=lenet(hyper,in_units,out_units,ctx=model_ctx)\n",
    "inference=sgd(model,model.par,step_size=0.5,ctx=model_ctx)"
   ]
  },
  {
   "cell_type": "code",
   "execution_count": null,
   "id": "1e33ce1e",
   "metadata": {},
   "outputs": [],
   "source": [
    "par,loss=inference.fit(epochs=20,batch_size=64,data_loader=data_loader_train,verbose=True)"
   ]
  },
  {
   "cell_type": "code",
   "execution_count": null,
   "id": "b2f9168d",
   "metadata": {},
   "outputs": [],
   "source": [
    "import matplotlib.pyplot as plt\n",
    "import seaborn as sns\n",
    "plt.rcParams['figure.dpi'] = 360\n",
    "sns.set_style(\"whitegrid\")\n",
    "\n",
    "\n",
    "fig=plt.figure(figsize=[5,5])\n",
    "plt.plot(loss,color='blue',lw=3)\n",
    "plt.xlabel('Epoch', size=18)\n",
    "plt.ylabel('Loss', size=18)\n",
    "plt.title('SGD Softmax MNIST', size=18)\n",
    "plt.xticks(size=14)\n",
    "plt.yticks(size=14)\n",
    "plt.show()"
   ]
  },
  {
   "cell_type": "code",
   "execution_count": null,
   "id": "92e22014",
   "metadata": {},
   "outputs": [],
   "source": [
    "model.net.save_parameters('lenet_sgd_300_0.001_epochs.params')"
   ]
  },
  {
   "cell_type": "code",
   "execution_count": null,
   "id": "89e0632d",
   "metadata": {},
   "outputs": [],
   "source": [
    "model.net.load_parameters('lenet_sgd_300_0.001_epochs.params',ctx=model_ctx)\n",
    "par=dict()\n",
    "for name,gluon_par in model.net.collect_params().items():\n",
    "    par.update({name:gluon_par.data()})"
   ]
  },
  {
   "cell_type": "code",
   "execution_count": null,
   "id": "8b58b48b",
   "metadata": {},
   "outputs": [],
   "source": [
    "total_samples,total_labels,log_like=inference.predict(par,batch_size=batch_size,num_samples=10,data_loader=data_loader_test)"
   ]
  },
  {
   "cell_type": "code",
   "execution_count": null,
   "id": "6cf90f78",
   "metadata": {},
   "outputs": [],
   "source": [
    "y_hat=np.quantile(total_samples,.5,axis=0)"
   ]
  },
  {
   "cell_type": "code",
   "execution_count": null,
   "id": "efa8f672",
   "metadata": {},
   "outputs": [],
   "source": [
    "from sklearn.metrics import classification_report\n",
    "\n",
    "print(classification_report(np.int32(total_labels),np.int32(y_hat)))"
   ]
  },
  {
   "cell_type": "raw",
   "id": "a23a50da",
   "metadata": {},
   "source": []
  }
 ],
 "metadata": {
  "kernelspec": {
   "display_name": "Python 3 (ipykernel)",
   "language": "python",
   "name": "python3"
  },
  "language_info": {
   "codemirror_mode": {
    "name": "ipython",
    "version": 3
   },
   "file_extension": ".py",
   "mimetype": "text/x-python",
   "name": "python",
   "nbconvert_exporter": "python",
   "pygments_lexer": "ipython3",
   "version": "3.8.10"
  }
 },
 "nbformat": 4,
 "nbformat_minor": 5
}
